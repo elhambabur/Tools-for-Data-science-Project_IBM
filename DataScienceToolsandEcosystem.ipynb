{
 "cells": [
  {
   "cell_type": "code",
   "execution_count": null,
   "id": "fcf2ddd3-17d9-4b01-8eab-1eeba754c8bf",
   "metadata": {},
   "outputs": [],
   "source": []
  },
  {
   "cell_type": "markdown",
   "id": "c32000be-9e98-43d9-8727-903c30c8946d",
   "metadata": {},
   "source": [
    "## Data Science Tools and Ecosystem"
   ]
  },
  {
   "cell_type": "markdown",
   "id": "081e5042-b769-401b-98f6-e3da38241ed0",
   "metadata": {},
   "source": [
    "In this notebook, we will explore the tools and ecosystem of Data Science.\n"
   ]
  },
  {
   "cell_type": "markdown",
   "id": "8640b162-408e-4de4-b0e1-d9f245af0019",
   "metadata": {},
   "source": [
    "Some of the popular languages that Data Scientists use are:\n",
    "1. Python\n",
    "2. R\n",
    "3. SQL"
   ]
  },
  {
   "cell_type": "markdown",
   "id": "8bd3ba85-1ea7-4251-aba2-6a36caa17cd7",
   "metadata": {},
   "source": [
    "Some of the commonly used libraries used by Data Scientists include:\n",
    "1. Pandas\n",
    "2. NumPy\n",
    "3. Scikit-learn\n",
    "4. Matplotlib\n",
    "5. Seaborn"
   ]
  },
  {
   "cell_type": "markdown",
   "id": "0e5107cf-1141-4c21-bd1c-2c9a2294ad58",
   "metadata": {},
   "source": [
    "| Data Science Tools | Description |\n",
    "|--------------------|-------------|\n",
    "| Jupyter Notebooks/Lab | Interactive computing environments |\n",
    "| RStudio | Integrated Development Environment for R |\n",
    "| Apache Spark | Distributed computing system |\n",
    "| TensorFlow | Machine learning framework |\n",
    "| Scikit-learn | Machine learning library for Python |"
   ]
  },
  {
   "cell_type": "markdown",
   "id": "2255c287-bed2-4fb2-bbe1-90cfdd8fea3d",
   "metadata": {},
   "source": [
    "### Objectives:\n",
    "* List popular languages for Data Science.\n",
    "* List commonly used Data Science libraries.\n",
    "* Introduce arithmetic expression examples."
   ]
  },
  {
   "cell_type": "markdown",
   "id": "35a099ac-bcaa-4a33-81c1-182f837afa3e",
   "metadata": {},
   "source": [
    "## Author\n",
    "Elham Ullah Babur"
   ]
  },
  {
   "cell_type": "code",
   "execution_count": 11,
   "id": "084ec9ff-3fb2-4751-a04c-f19a66e71a92",
   "metadata": {},
   "outputs": [
    {
     "name": "stdout",
     "output_type": "stream",
     "text": [
      "17\n"
     ]
    }
   ],
   "source": [
    "# Multiply and add numbers\n",
    "a = 5\n",
    "b = 3\n",
    "result = (a * b) + 2\n",
    "print(result)"
   ]
  },
  {
   "cell_type": "code",
   "execution_count": 13,
   "id": "04581762-4852-4961-82c1-7567366c24f6",
   "metadata": {},
   "outputs": [
    {
     "name": "stdout",
     "output_type": "stream",
     "text": [
      "200 minutes is equal to 3.3333333333333335 hours\n"
     ]
    }
   ],
   "source": [
    "# Convert minutes to hours\n",
    "minutes = 200\n",
    "hours = minutes / 60\n",
    "print(f\"{minutes} minutes is equal to {hours} hours\")"
   ]
  },
  {
   "cell_type": "code",
   "execution_count": null,
   "id": "74e3b154-56c8-49e7-a734-a0d9d201919a",
   "metadata": {},
   "outputs": [],
   "source": []
  }
 ],
 "metadata": {
  "kernelspec": {
   "display_name": "Python [conda env:anaconda3] *",
   "language": "python",
   "name": "conda-env-anaconda3-py"
  },
  "language_info": {
   "codemirror_mode": {
    "name": "ipython",
    "version": 3
   },
   "file_extension": ".py",
   "mimetype": "text/x-python",
   "name": "python",
   "nbconvert_exporter": "python",
   "pygments_lexer": "ipython3",
   "version": "3.12.7"
  }
 },
 "nbformat": 4,
 "nbformat_minor": 5
}
